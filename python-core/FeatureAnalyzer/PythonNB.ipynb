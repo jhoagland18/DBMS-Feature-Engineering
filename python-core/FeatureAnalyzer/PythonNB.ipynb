{
 "cells": [
  {
   "cell_type": "code",
   "execution_count": 8,
   "metadata": {
    "collapsed": true
   },
   "outputs": [],
   "source": [
    "depVarName = df.columns[-1]"
   ]
  },
  {
   "cell_type": "code",
   "execution_count": 18,
   "metadata": {
    "collapsed": false
   },
   "outputs": [
    {
     "data": {
      "text/plain": [
       "'att_12'"
      ]
     },
     "execution_count": 18,
     "metadata": {},
     "output_type": "execute_result"
    }
   ],
   "source": [
    "attName"
   ]
  },
  {
   "cell_type": "code",
   "execution_count": 42,
   "metadata": {
    "collapsed": false,
    "scrolled": true
   },
   "outputs": [
    {
     "data": {
      "text/html": [
       "<div>\n",
       "<style>\n",
       "    .dataframe thead tr:only-child th {\n",
       "        text-align: right;\n",
       "    }\n",
       "\n",
       "    .dataframe thead th {\n",
       "        text-align: left;\n",
       "    }\n",
       "\n",
       "    .dataframe tbody tr th {\n",
       "        vertical-align: top;\n",
       "    }\n",
       "</style>\n",
       "<table border=\"1\" class=\"dataframe\">\n",
       "  <thead>\n",
       "    <tr style=\"text-align: right;\">\n",
       "      <th></th>\n",
       "      <th>Attribute_Descr</th>\n",
       "      <th>SQL_Query</th>\n",
       "    </tr>\n",
       "    <tr>\n",
       "      <th>Attribute_ID</th>\n",
       "      <th></th>\n",
       "      <th></th>\n",
       "    </tr>\n",
       "  </thead>\n",
       "  <tbody>\n",
       "    <tr>\n",
       "      <th>att_0</th>\n",
       "      <td>The price of the Products</td>\n",
       "      <td>SELECT t0.Purchase_ID, t1.price</td>\n",
       "    </tr>\n",
       "    <tr>\n",
       "      <th>FROM Purchases t0</th>\n",
       "      <td>NaN</td>\n",
       "      <td>NaN</td>\n",
       "    </tr>\n",
       "    <tr>\n",
       "      <th>LEFT OUTER JOIN Products t1</th>\n",
       "      <td>NaN</td>\n",
       "      <td>NaN</td>\n",
       "    </tr>\n",
       "    <tr>\n",
       "      <th>ON t0.Product_ID = t1.Product_ID</th>\n",
       "      <td>NaN</td>\n",
       "      <td>NaN</td>\n",
       "    </tr>\n",
       "    <tr>\n",
       "      <th>att_1</th>\n",
       "      <td>The MAX returned among the previous Purchases ...</td>\n",
       "      <td>SELECT t0.Purchase_ID, MAX(t2.returned) FROM ...</td>\n",
       "    </tr>\n",
       "  </tbody>\n",
       "</table>\n",
       "</div>"
      ],
      "text/plain": [
       "                                                                    Attribute_Descr  \\\n",
       "Attribute_ID                                                                          \n",
       "att_0                                                    The price of the Products    \n",
       " FROM Purchases t0                                                              NaN   \n",
       " LEFT OUTER JOIN Products t1                                                    NaN   \n",
       "ON t0.Product_ID = t1.Product_ID                                                NaN   \n",
       "att_1                             The MAX returned among the previous Purchases ...   \n",
       "\n",
       "                                                                          SQL_Query  \n",
       "Attribute_ID                                                                         \n",
       "att_0                                               SELECT t0.Purchase_ID, t1.price  \n",
       " FROM Purchases t0                                                              NaN  \n",
       " LEFT OUTER JOIN Products t1                                                    NaN  \n",
       "ON t0.Product_ID = t1.Product_ID                                                NaN  \n",
       "att_1                              SELECT t0.Purchase_ID, MAX(t2.returned) FROM ...  "
      ]
     },
     "execution_count": 42,
     "metadata": {},
     "output_type": "execute_result"
    }
   ],
   "source": [
    "dict.head()"
   ]
  },
  {
   "cell_type": "code",
   "execution_count": 34,
   "metadata": {
    "collapsed": false,
    "scrolled": false
   },
   "outputs": [
    {
     "data": {
      "text/plain": [
       "'The MAX returned among the previous Purchases of the Products where WHERE t2.online = 0'"
      ]
     },
     "execution_count": 34,
     "metadata": {},
     "output_type": "execute_result"
    }
   ],
   "source": [
    "dict.loc[attName,'Attribute_Descr']"
   ]
  },
  {
   "cell_type": "code",
   "execution_count": 40,
   "metadata": {
    "collapsed": false
   },
   "outputs": [],
   "source": [
    "\n",
    "# author: Michele Samorani\n",
    "import pandas as pd\n",
    "import seaborn as sns\n",
    "from sklearn import linear_model as lm\n",
    "from sklearn.model_selection import KFold\n",
    "from sklearn.model_selection import cross_val_score\n",
    "from sklearn.ensemble import AdaBoostClassifier\n",
    "import os\n",
    "\n",
    "\n",
    "\n",
    "df = pd.read_csv('../../output/features/Feature Matrix.csv',index_col=0)\n",
    "dict = pd.read_csv('../../output/features/Feature Dictionary.csv',index_col=0,sep='\\t')\n",
    "depVarName = df.columns[-1]\n",
    "df2 = df.fillna(df.mean())\n",
    "df2 = 100 * (df2 - df2.min()) / (df2.max() - df2.min())\n",
    "X = df2.drop([depVarName],axis=1)\n",
    "Y = df2[depVarName] / 100\n",
    "\n",
    "lr = lm.Lasso()\n",
    "lr.fit(X,Y)\n",
    "lr.coef_[0]\n",
    "d={X.columns[i] : lr.coef_[i] for i in range(0,len(X.columns)) }\n",
    "s=pd.Series(d)\n",
    "attr = s.abs().sort_values().head(4).index.tolist()\n",
    "dfViz = df.copy()\n",
    "\n",
    "i = 1\n",
    "for attName in attr:\n",
    "    if df[attName].nunique() > 15:\n",
    "        dfViz[attName] = pd.cut(x=df[attName],bins=5)\n",
    "    chart = sns.factorplot(x=attName,y=depVarName,data=dfViz,kind = 'bar', aspect=3)\n",
    "    chart.set(xlabel=attName, ylabel='Probability of ' + depVarName)\n",
    "    chart.savefig(\"../../output/Report/report-source/IMG\"+ str(i)  + \".png\",dpi=500)\n",
    "    f = open('../../output/Report/report-source/DESCR'+str(i)+'.txt','w')\n",
    "    f.write(dict.loc[attName,'Attribute_Descr'])\n",
    "    f.close()\n",
    "    i+=1\n",
    "\n",
    "if df2[depVarName].nunique() > 2:\n",
    "    regression = True\n",
    "else:\n",
    "    regression = False\n",
    "\n",
    "if not regression:\n",
    "    nfolds = 10\n",
    "    kf = KFold(n_splits=nfolds,random_state=2,shuffle=True)\n",
    "    cl = AdaBoostClassifier()\n",
    "    auc = cross_val_score(cl,X,y=Y,cv=kf,scoring='roc_auc').mean()\n",
    "    f = open('../../output/Report/report-source/text_at_bottom.txt','w')\n",
    "    f.write('Area under the curve obtained by AdaBoost in a 10-fold cross validation: ' +str(round(auc,4)))\n",
    "    f.close()"
   ]
  },
  {
   "cell_type": "code",
   "execution_count": 41,
   "metadata": {
    "collapsed": false
   },
   "outputs": [],
   "source": [
    "\n",
    "# author: Michele Samorani\n",
    "import pandas as pd\n",
    "import seaborn as sns\n",
    "from sklearn import linear_model as lm\n",
    "from sklearn.model_selection import KFold\n",
    "from sklearn.model_selection import cross_val_score\n",
    "from sklearn.ensemble import AdaBoostClassifier\n",
    "import os\n",
    "\n",
    "\n",
    "if __name__ == \"__main__\":\n",
    "\n",
    "    df = pd.read_csv('../../output/features/Feature Matrix.csv',index_col=0)\n",
    "    dict = pd.read_csv('../../output/features/Feature Dictionary.csv',index_col=0,sep='\\t')\n",
    "    depVarName = df.columns[-1]\n",
    "    depVarName = df.columns[-1]\n",
    "    df2 = df.fillna(df.mean())\n",
    "    df2 = 100 * (df2 - df2.min()) / (df2.max() - df2.min())\n",
    "    X = df2.drop([depVarName],axis=1)\n",
    "    Y = df2[depVarName] / 100\n",
    "    \n",
    "    lr = lm.Lasso()\n",
    "    lr.fit(X,Y)\n",
    "    lr.coef_[0]\n",
    "    d={X.columns[i] : lr.coef_[i] for i in range(0,len(X.columns)) }\n",
    "    s=pd.Series(d)\n",
    "    attr = s.abs().sort_values().head(4).index.tolist()\n",
    "    dfViz = df.copy()\n",
    "    \n",
    "    i = 1\n",
    "    for attName in attr:\n",
    "        if df[attName].nunique() > 15:\n",
    "            dfViz[attName] = pd.cut(x=df[attName],bins=5)\n",
    "        chart = sns.factorplot(x=attName,y=depVarName,data=dfViz,kind = 'bar', aspect=3)\n",
    "        chart.set(xlabel=attName, ylabel='Probability of ' + depVarName)\n",
    "        chart.savefig(\"../../output/Report/report-source/IMG\"+ str(i)  + \".png\",dpi=500)\n",
    "        f = open('../../output/Report/report-source/DESCR'+str(i)+'.txt','w')\n",
    "        f.write(dict.loc[attName,'SQL_Query'])\n",
    "        f.close()\n",
    "\n",
    "        i+=1\n",
    "    \n",
    "    if df2[depVarName].nunique() > 2:\n",
    "        regression = True\n",
    "    else:\n",
    "        regression = False\n",
    "\n",
    "    if not regression:\n",
    "        nfolds = 10\n",
    "        kf = KFold(n_splits=nfolds,random_state=2,shuffle=True)\n",
    "        cl = AdaBoostClassifier()\n",
    "        auc = cross_val_score(cl,X,y=Y,cv=kf,scoring='roc_auc').mean()\n",
    "        f = open('../../output/Report/report-source/text_at_bottom.txt','w')\n",
    "        f.write('Area under the curve obtained by AdaBoost in a 10-fold cross validation: ' +str(round(auc,4)))\n",
    "        f.close()"
   ]
  }
 ],
 "metadata": {
  "kernelspec": {
   "display_name": "Python 2",
   "language": "python",
   "name": "python2"
  },
  "language_info": {
   "codemirror_mode": {
    "name": "ipython",
    "version": 2
   },
   "file_extension": ".py",
   "mimetype": "text/x-python",
   "name": "python",
   "nbconvert_exporter": "python",
   "pygments_lexer": "ipython2",
   "version": "2.7.11"
  }
 },
 "nbformat": 4,
 "nbformat_minor": 0
}
