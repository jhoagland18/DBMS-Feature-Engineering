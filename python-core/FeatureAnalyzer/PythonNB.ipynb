{
 "cells": [
  {
   "cell_type": "code",
   "execution_count": 8,
   "metadata": {
    "collapsed": true
   },
   "outputs": [],
   "source": [
    "depVarName = df.columns[-1]"
   ]
  },
  {
   "cell_type": "code",
   "execution_count": 18,
   "metadata": {
    "collapsed": false
   },
   "outputs": [
    {
     "data": {
      "text/plain": [
       "'att_12'"
      ]
     },
     "execution_count": 18,
     "metadata": {},
     "output_type": "execute_result"
    }
   ],
   "source": [
    "attName"
   ]
  },
  {
   "cell_type": "code",
   "execution_count": 42,
   "metadata": {
    "collapsed": false,
    "scrolled": true
   },
   "outputs": [
    {
     "data": {
      "text/html": [
       "<div>\n",
       "<style>\n",
       "    .dataframe thead tr:only-child th {\n",
       "        text-align: right;\n",
       "    }\n",
       "\n",
       "    .dataframe thead th {\n",
       "        text-align: left;\n",
       "    }\n",
       "\n",
       "    .dataframe tbody tr th {\n",
       "        vertical-align: top;\n",
       "    }\n",
       "</style>\n",
       "<table border=\"1\" class=\"dataframe\">\n",
       "  <thead>\n",
       "    <tr style=\"text-align: right;\">\n",
       "      <th></th>\n",
       "      <th>Attribute_Descr</th>\n",
       "      <th>SQL_Query</th>\n",
       "    </tr>\n",
       "    <tr>\n",
       "      <th>Attribute_ID</th>\n",
       "      <th></th>\n",
       "      <th></th>\n",
       "    </tr>\n",
       "  </thead>\n",
       "  <tbody>\n",
       "    <tr>\n",
       "      <th>att_0</th>\n",
       "      <td>The price of the Products</td>\n",
       "      <td>SELECT t0.Purchase_ID, t1.price</td>\n",
       "    </tr>\n",
       "    <tr>\n",
       "      <th>FROM Purchases t0</th>\n",
       "      <td>NaN</td>\n",
       "      <td>NaN</td>\n",
       "    </tr>\n",
       "    <tr>\n",
       "      <th>LEFT OUTER JOIN Products t1</th>\n",
       "      <td>NaN</td>\n",
       "      <td>NaN</td>\n",
       "    </tr>\n",
       "    <tr>\n",
       "      <th>ON t0.Product_ID = t1.Product_ID</th>\n",
       "      <td>NaN</td>\n",
       "      <td>NaN</td>\n",
       "    </tr>\n",
       "    <tr>\n",
       "      <th>att_1</th>\n",
       "      <td>The MAX returned among the previous Purchases ...</td>\n",
       "      <td>SELECT t0.Purchase_ID, MAX(t2.returned) FROM ...</td>\n",
       "    </tr>\n",
       "  </tbody>\n",
       "</table>\n",
       "</div>"
      ],
      "text/plain": [
       "                                                                    Attribute_Descr  \\\n",
       "Attribute_ID                                                                          \n",
       "att_0                                                    The price of the Products    \n",
       " FROM Purchases t0                                                              NaN   \n",
       " LEFT OUTER JOIN Products t1                                                    NaN   \n",
       "ON t0.Product_ID = t1.Product_ID                                                NaN   \n",
       "att_1                             The MAX returned among the previous Purchases ...   \n",
       "\n",
       "                                                                          SQL_Query  \n",
       "Attribute_ID                                                                         \n",
       "att_0                                               SELECT t0.Purchase_ID, t1.price  \n",
       " FROM Purchases t0                                                              NaN  \n",
       " LEFT OUTER JOIN Products t1                                                    NaN  \n",
       "ON t0.Product_ID = t1.Product_ID                                                NaN  \n",
       "att_1                              SELECT t0.Purchase_ID, MAX(t2.returned) FROM ...  "
      ]
     },
     "execution_count": 42,
     "metadata": {},
     "output_type": "execute_result"
    }
   ],
   "source": [
    "dict.head()"
   ]
  },
  {
   "cell_type": "code",
   "execution_count": 34,
   "metadata": {
    "collapsed": false,
    "scrolled": false
   },
   "outputs": [
    {
     "data": {
      "text/plain": [
       "'The MAX returned among the previous Purchases of the Products where WHERE t2.online = 0'"
      ]
     },
     "execution_count": 34,
     "metadata": {},
     "output_type": "execute_result"
    }
   ],
   "source": [
    "dict.loc[attName,'Attribute_Descr']"
   ]
  },
  {
   "cell_type": "code",
   "execution_count": 9,
   "metadata": {
    "collapsed": false
   },
   "outputs": [],
   "source": [
    "df = pd.read_csv('../../output/features/Feature Matrix.csv',index_col=0)\n",
    "dict = pd.read_csv('../../output/features/Feature Dictionary.csv',index_col=0,sep='\\t')\n",
    "depVarName = df.columns[-1]\n",
    "\n",
    "\n"
   ]
  },
  {
   "cell_type": "code",
   "execution_count": null,
   "metadata": {
    "collapsed": true
   },
   "outputs": [],
   "source": []
  },
  {
   "cell_type": "code",
   "execution_count": 1,
   "metadata": {
    "collapsed": false
   },
   "outputs": [
    {
     "ename": "ValueError",
     "evalue": "Input contains NaN, infinity or a value too large for dtype('float64').",
     "output_type": "error",
     "traceback": [
      "\u001b[1;31m---------------------------------------------------------------------------\u001b[0m",
      "\u001b[1;31mValueError\u001b[0m                                Traceback (most recent call last)",
      "\u001b[1;32m<ipython-input-1-62cd4b4cd735>\u001b[0m in \u001b[0;36m<module>\u001b[1;34m()\u001b[0m\n\u001b[0;32m     20\u001b[0m \u001b[1;33m\u001b[0m\u001b[0m\n\u001b[0;32m     21\u001b[0m \u001b[0mlr\u001b[0m \u001b[1;33m=\u001b[0m \u001b[0mlm\u001b[0m\u001b[1;33m.\u001b[0m\u001b[0mLasso\u001b[0m\u001b[1;33m(\u001b[0m\u001b[1;33m)\u001b[0m\u001b[1;33m\u001b[0m\u001b[0m\n\u001b[1;32m---> 22\u001b[1;33m \u001b[0mlr\u001b[0m\u001b[1;33m.\u001b[0m\u001b[0mfit\u001b[0m\u001b[1;33m(\u001b[0m\u001b[0mX\u001b[0m\u001b[1;33m,\u001b[0m\u001b[0mY\u001b[0m\u001b[1;33m)\u001b[0m\u001b[1;33m\u001b[0m\u001b[0m\n\u001b[0m\u001b[0;32m     23\u001b[0m \u001b[0mlr\u001b[0m\u001b[1;33m.\u001b[0m\u001b[0mcoef_\u001b[0m\u001b[1;33m[\u001b[0m\u001b[1;36m0\u001b[0m\u001b[1;33m]\u001b[0m\u001b[1;33m\u001b[0m\u001b[0m\n\u001b[0;32m     24\u001b[0m \u001b[0md\u001b[0m\u001b[1;33m=\u001b[0m\u001b[1;33m{\u001b[0m\u001b[0mX\u001b[0m\u001b[1;33m.\u001b[0m\u001b[0mcolumns\u001b[0m\u001b[1;33m[\u001b[0m\u001b[0mi\u001b[0m\u001b[1;33m]\u001b[0m \u001b[1;33m:\u001b[0m \u001b[0mlr\u001b[0m\u001b[1;33m.\u001b[0m\u001b[0mcoef_\u001b[0m\u001b[1;33m[\u001b[0m\u001b[0mi\u001b[0m\u001b[1;33m]\u001b[0m \u001b[1;32mfor\u001b[0m \u001b[0mi\u001b[0m \u001b[1;32min\u001b[0m \u001b[0mrange\u001b[0m\u001b[1;33m(\u001b[0m\u001b[1;36m0\u001b[0m\u001b[1;33m,\u001b[0m\u001b[0mlen\u001b[0m\u001b[1;33m(\u001b[0m\u001b[0mX\u001b[0m\u001b[1;33m.\u001b[0m\u001b[0mcolumns\u001b[0m\u001b[1;33m)\u001b[0m\u001b[1;33m)\u001b[0m \u001b[1;33m}\u001b[0m\u001b[1;33m\u001b[0m\u001b[0m\n",
      "\u001b[1;32mC:\\Users\\miche\\AppData\\Local\\Enthought\\Canopy\\User\\lib\\site-packages\\sklearn\\linear_model\\coordinate_descent.pyc\u001b[0m in \u001b[0;36mfit\u001b[1;34m(self, X, y, check_input)\u001b[0m\n\u001b[0;32m    705\u001b[0m                              \u001b[0morder\u001b[0m\u001b[1;33m=\u001b[0m\u001b[1;34m'F'\u001b[0m\u001b[1;33m,\u001b[0m \u001b[0mdtype\u001b[0m\u001b[1;33m=\u001b[0m\u001b[1;33m[\u001b[0m\u001b[0mnp\u001b[0m\u001b[1;33m.\u001b[0m\u001b[0mfloat64\u001b[0m\u001b[1;33m,\u001b[0m \u001b[0mnp\u001b[0m\u001b[1;33m.\u001b[0m\u001b[0mfloat32\u001b[0m\u001b[1;33m]\u001b[0m\u001b[1;33m,\u001b[0m\u001b[1;33m\u001b[0m\u001b[0m\n\u001b[0;32m    706\u001b[0m                              \u001b[0mcopy\u001b[0m\u001b[1;33m=\u001b[0m\u001b[0mself\u001b[0m\u001b[1;33m.\u001b[0m\u001b[0mcopy_X\u001b[0m \u001b[1;32mand\u001b[0m \u001b[0mself\u001b[0m\u001b[1;33m.\u001b[0m\u001b[0mfit_intercept\u001b[0m\u001b[1;33m,\u001b[0m\u001b[1;33m\u001b[0m\u001b[0m\n\u001b[1;32m--> 707\u001b[1;33m                              multi_output=True, y_numeric=True)\n\u001b[0m\u001b[0;32m    708\u001b[0m             y = check_array(y, order='F', copy=False, dtype=X.dtype.type,\n\u001b[0;32m    709\u001b[0m                             ensure_2d=False)\n",
      "\u001b[1;32mC:\\Users\\miche\\AppData\\Local\\Enthought\\Canopy\\User\\lib\\site-packages\\sklearn\\utils\\validation.pyc\u001b[0m in \u001b[0;36mcheck_X_y\u001b[1;34m(X, y, accept_sparse, dtype, order, copy, force_all_finite, ensure_2d, allow_nd, multi_output, ensure_min_samples, ensure_min_features, y_numeric, warn_on_dtype, estimator)\u001b[0m\n\u001b[0;32m    540\u001b[0m     X = check_array(X, accept_sparse, dtype, order, copy, force_all_finite,\n\u001b[0;32m    541\u001b[0m                     \u001b[0mensure_2d\u001b[0m\u001b[1;33m,\u001b[0m \u001b[0mallow_nd\u001b[0m\u001b[1;33m,\u001b[0m \u001b[0mensure_min_samples\u001b[0m\u001b[1;33m,\u001b[0m\u001b[1;33m\u001b[0m\u001b[0m\n\u001b[1;32m--> 542\u001b[1;33m                     ensure_min_features, warn_on_dtype, estimator)\n\u001b[0m\u001b[0;32m    543\u001b[0m     \u001b[1;32mif\u001b[0m \u001b[0mmulti_output\u001b[0m\u001b[1;33m:\u001b[0m\u001b[1;33m\u001b[0m\u001b[0m\n\u001b[0;32m    544\u001b[0m         y = check_array(y, 'csr', force_all_finite=True, ensure_2d=False,\n",
      "\u001b[1;32mC:\\Users\\miche\\AppData\\Local\\Enthought\\Canopy\\User\\lib\\site-packages\\sklearn\\utils\\validation.pyc\u001b[0m in \u001b[0;36mcheck_array\u001b[1;34m(array, accept_sparse, dtype, order, copy, force_all_finite, ensure_2d, allow_nd, ensure_min_samples, ensure_min_features, warn_on_dtype, estimator)\u001b[0m\n\u001b[0;32m    420\u001b[0m                              % (array.ndim, estimator_name))\n\u001b[0;32m    421\u001b[0m         \u001b[1;32mif\u001b[0m \u001b[0mforce_all_finite\u001b[0m\u001b[1;33m:\u001b[0m\u001b[1;33m\u001b[0m\u001b[0m\n\u001b[1;32m--> 422\u001b[1;33m             \u001b[0m_assert_all_finite\u001b[0m\u001b[1;33m(\u001b[0m\u001b[0marray\u001b[0m\u001b[1;33m)\u001b[0m\u001b[1;33m\u001b[0m\u001b[0m\n\u001b[0m\u001b[0;32m    423\u001b[0m \u001b[1;33m\u001b[0m\u001b[0m\n\u001b[0;32m    424\u001b[0m     \u001b[0mshape_repr\u001b[0m \u001b[1;33m=\u001b[0m \u001b[0m_shape_repr\u001b[0m\u001b[1;33m(\u001b[0m\u001b[0marray\u001b[0m\u001b[1;33m.\u001b[0m\u001b[0mshape\u001b[0m\u001b[1;33m)\u001b[0m\u001b[1;33m\u001b[0m\u001b[0m\n",
      "\u001b[1;32mC:\\Users\\miche\\AppData\\Local\\Enthought\\Canopy\\User\\lib\\site-packages\\sklearn\\utils\\validation.pyc\u001b[0m in \u001b[0;36m_assert_all_finite\u001b[1;34m(X)\u001b[0m\n\u001b[0;32m     41\u001b[0m             and not np.isfinite(X).all()):\n\u001b[0;32m     42\u001b[0m         raise ValueError(\"Input contains NaN, infinity\"\n\u001b[1;32m---> 43\u001b[1;33m                          \" or a value too large for %r.\" % X.dtype)\n\u001b[0m\u001b[0;32m     44\u001b[0m \u001b[1;33m\u001b[0m\u001b[0m\n\u001b[0;32m     45\u001b[0m \u001b[1;33m\u001b[0m\u001b[0m\n",
      "\u001b[1;31mValueError\u001b[0m: Input contains NaN, infinity or a value too large for dtype('float64')."
     ]
    }
   ],
   "source": [
    "\n",
    "# author: Michele Samorani\n",
    "import pandas as pd\n",
    "import seaborn as sns\n",
    "from sklearn import linear_model as lm\n",
    "from sklearn.model_selection import KFold\n",
    "from sklearn.model_selection import cross_val_score\n",
    "from sklearn.ensemble import AdaBoostClassifier\n",
    "import os\n",
    "\n",
    "\n",
    "\n",
    "df = pd.read_csv('../../output/features/Feature Matrix.csv',index_col=0)\n",
    "dict = pd.read_csv('../../output/features/Feature Dictionary.csv',index_col=0,sep='\\t')\n",
    "depVarName = df.columns[-1]\n",
    "df2 = df.fillna(df.mean())\n",
    "df2 = 100 * (df2 - df2.min()) / (df2.max() - df2.min())\n",
    "X = df2.drop([depVarName],axis=1)\n",
    "Y = df2[depVarName] / 100\n",
    "\n",
    "\n",
    "lr = lm.Lasso()\n",
    "lr.fit(X,Y)\n",
    "lr.coef_[0]\n",
    "d={X.columns[i] : lr.coef_[i] for i in range(0,len(X.columns)) }\n",
    "s=pd.Series(d)\n",
    "attr = s.abs().sort_values().head(4).index.tolist()\n",
    "dfViz = df.copy()\n",
    "\n",
    "i = 1\n",
    "for attName in attr:\n",
    "    if df[attName].nunique() > 15:\n",
    "        dfViz[attName] = pd.cut(x=df[attName],bins=5)\n",
    "    chart = sns.factorplot(x=attName,y=depVarName,data=dfViz,kind = 'bar', aspect=3)\n",
    "    chart.set(xlabel=attName, ylabel='Probability of ' + depVarName)\n",
    "    chart.savefig(\"../../output/Report/report-source/IMG\"+ str(i)  + \".png\",dpi=500)\n",
    "    f = open('../../output/Report/report-source/DESCR'+str(i)+'.txt','w')\n",
    "    f.write(dict.loc[attName,'Attribute_Descr'])\n",
    "    f.close()\n",
    "    i+=1\n",
    "\n",
    "if df2[depVarName].nunique() > 2:\n",
    "    regression = True\n",
    "else:\n",
    "    regression = False\n",
    "\n",
    "if not regression:\n",
    "    nfolds = 10\n",
    "    kf = KFold(n_splits=nfolds,random_state=2,shuffle=True)\n",
    "    cl = AdaBoostClassifier()\n",
    "    auc = cross_val_score(cl,X,y=Y,cv=kf,scoring='roc_auc').mean()\n",
    "    f = open('../../output/Report/report-source/text_at_bottom.txt','w')\n",
    "    f.write('Area under the curve obtained by AdaBoost in a 10-fold cross validation: ' +str(round(auc,4)))\n",
    "    f.close()"
   ]
  },
  {
   "cell_type": "code",
   "execution_count": 41,
   "metadata": {
    "collapsed": false
   },
   "outputs": [],
   "source": [
    "\n",
    "# author: Michele Samorani\n",
    "import pandas as pd\n",
    "import seaborn as sns\n",
    "from sklearn import linear_model as lm\n",
    "from sklearn.model_selection import KFold\n",
    "from sklearn.model_selection import cross_val_score\n",
    "from sklearn.ensemble import AdaBoostClassifier\n",
    "import os\n",
    "\n",
    "\n",
    "if __name__ == \"__main__\":\n",
    "\n",
    "    df = pd.read_csv('../../output/features/Feature Matrix.csv',index_col=0)\n",
    "    dict = pd.read_csv('../../output/features/Feature Dictionary.csv',index_col=0,sep='\\t')\n",
    "    depVarName = df.columns[-1]\n",
    "    depVarName = df.columns[-1]\n",
    "    df2 = df.fillna(df.mean())\n",
    "    df2 = 100 * (df2 - df2.min()) / (df2.max() - df2.min())\n",
    "    X = df2.drop([depVarName],axis=1)\n",
    "    Y = df2[depVarName] / 100\n",
    "    \n",
    "    lr = lm.Lasso()\n",
    "    lr.fit(X,Y)\n",
    "    lr.coef_[0]\n",
    "    d={X.columns[i] : lr.coef_[i] for i in range(0,len(X.columns)) }\n",
    "    s=pd.Series(d)\n",
    "    attr = s.abs().sort_values().head(4).index.tolist()\n",
    "    dfViz = df.copy()\n",
    "    \n",
    "    i = 1\n",
    "    for attName in attr:\n",
    "        if df[attName].nunique() > 15:\n",
    "            dfViz[attName] = pd.cut(x=df[attName],bins=5)\n",
    "        chart = sns.factorplot(x=attName,y=depVarName,data=dfViz,kind = 'bar', aspect=3)\n",
    "        chart.set(xlabel=attName, ylabel='Probability of ' + depVarName)\n",
    "        chart.savefig(\"../../output/Report/report-source/IMG\"+ str(i)  + \".png\",dpi=500)\n",
    "        f = open('../../output/Report/report-source/DESCR'+str(i)+'.txt','w')\n",
    "        f.write(dict.loc[attName,'SQL_Query'])\n",
    "        f.close()\n",
    "\n",
    "        i+=1\n",
    "    \n",
    "    if df2[depVarName].nunique() > 2:\n",
    "        regression = True\n",
    "    else:\n",
    "        regression = False\n",
    "\n",
    "    if not regression:\n",
    "        nfolds = 10\n",
    "        kf = KFold(n_splits=nfolds,random_state=2,shuffle=True)\n",
    "        cl = AdaBoostClassifier()\n",
    "        auc = cross_val_score(cl,X,y=Y,cv=kf,scoring='roc_auc').mean()\n",
    "        f = open('../../output/Report/report-source/text_at_bottom.txt','w')\n",
    "        f.write('Area under the curve obtained by AdaBoost in a 10-fold cross validation: ' +str(round(auc,4)))\n",
    "        f.close()"
   ]
  }
 ],
 "metadata": {
  "kernelspec": {
   "display_name": "Python 2",
   "language": "python",
   "name": "python2"
  },
  "language_info": {
   "codemirror_mode": {
    "name": "ipython",
    "version": 2
   },
   "file_extension": ".py",
   "mimetype": "text/x-python",
   "name": "python",
   "nbconvert_exporter": "python",
   "pygments_lexer": "ipython2",
   "version": "2.7.11"
  }
 },
 "nbformat": 4,
 "nbformat_minor": 0
}
