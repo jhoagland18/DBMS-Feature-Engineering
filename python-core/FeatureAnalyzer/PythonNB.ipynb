{
 "cells": [
  {
   "cell_type": "code",
   "execution_count": 8,
   "metadata": {
    "collapsed": true
   },
   "outputs": [],
   "source": [
    "depVarName = df.columns[-1]"
   ]
  },
  {
   "cell_type": "code",
   "execution_count": 18,
   "metadata": {
    "collapsed": false
   },
   "outputs": [
    {
     "data": {
      "text/plain": [
       "'att_12'"
      ]
     },
     "execution_count": 18,
     "metadata": {},
     "output_type": "execute_result"
    }
   ],
   "source": [
    "attName"
   ]
  },
  {
   "cell_type": "code",
   "execution_count": 42,
   "metadata": {
    "collapsed": false,
    "scrolled": true
   },
   "outputs": [
    {
     "data": {
      "text/html": [
       "<div>\n",
       "<style>\n",
       "    .dataframe thead tr:only-child th {\n",
       "        text-align: right;\n",
       "    }\n",
       "\n",
       "    .dataframe thead th {\n",
       "        text-align: left;\n",
       "    }\n",
       "\n",
       "    .dataframe tbody tr th {\n",
       "        vertical-align: top;\n",
       "    }\n",
       "</style>\n",
       "<table border=\"1\" class=\"dataframe\">\n",
       "  <thead>\n",
       "    <tr style=\"text-align: right;\">\n",
       "      <th></th>\n",
       "      <th>Attribute_Descr</th>\n",
       "      <th>SQL_Query</th>\n",
       "    </tr>\n",
       "    <tr>\n",
       "      <th>Attribute_ID</th>\n",
       "      <th></th>\n",
       "      <th></th>\n",
       "    </tr>\n",
       "  </thead>\n",
       "  <tbody>\n",
       "    <tr>\n",
       "      <th>att_0</th>\n",
       "      <td>The price of the Products</td>\n",
       "      <td>SELECT t0.Purchase_ID, t1.price</td>\n",
       "    </tr>\n",
       "    <tr>\n",
       "      <th>FROM Purchases t0</th>\n",
       "      <td>NaN</td>\n",
       "      <td>NaN</td>\n",
       "    </tr>\n",
       "    <tr>\n",
       "      <th>LEFT OUTER JOIN Products t1</th>\n",
       "      <td>NaN</td>\n",
       "      <td>NaN</td>\n",
       "    </tr>\n",
       "    <tr>\n",
       "      <th>ON t0.Product_ID = t1.Product_ID</th>\n",
       "      <td>NaN</td>\n",
       "      <td>NaN</td>\n",
       "    </tr>\n",
       "    <tr>\n",
       "      <th>att_1</th>\n",
       "      <td>The MAX returned among the previous Purchases ...</td>\n",
       "      <td>SELECT t0.Purchase_ID, MAX(t2.returned) FROM ...</td>\n",
       "    </tr>\n",
       "  </tbody>\n",
       "</table>\n",
       "</div>"
      ],
      "text/plain": [
       "                                                                    Attribute_Descr  \\\n",
       "Attribute_ID                                                                          \n",
       "att_0                                                    The price of the Products    \n",
       " FROM Purchases t0                                                              NaN   \n",
       " LEFT OUTER JOIN Products t1                                                    NaN   \n",
       "ON t0.Product_ID = t1.Product_ID                                                NaN   \n",
       "att_1                             The MAX returned among the previous Purchases ...   \n",
       "\n",
       "                                                                          SQL_Query  \n",
       "Attribute_ID                                                                         \n",
       "att_0                                               SELECT t0.Purchase_ID, t1.price  \n",
       " FROM Purchases t0                                                              NaN  \n",
       " LEFT OUTER JOIN Products t1                                                    NaN  \n",
       "ON t0.Product_ID = t1.Product_ID                                                NaN  \n",
       "att_1                              SELECT t0.Purchase_ID, MAX(t2.returned) FROM ...  "
      ]
     },
     "execution_count": 42,
     "metadata": {},
     "output_type": "execute_result"
    }
   ],
   "source": [
    "dict.head()"
   ]
  },
  {
   "cell_type": "code",
   "execution_count": 34,
   "metadata": {
    "collapsed": false,
    "scrolled": false
   },
   "outputs": [
    {
     "data": {
      "text/plain": [
       "'The MAX returned among the previous Purchases of the Products where WHERE t2.online = 0'"
      ]
     },
     "execution_count": 34,
     "metadata": {},
     "output_type": "execute_result"
    }
   ],
   "source": [
    "dict.loc[attName,'Attribute_Descr']"
   ]
  },
  {
   "cell_type": "code",
   "execution_count": 13,
   "metadata": {
    "collapsed": false
   },
   "outputs": [
    {
     "name": "stdout",
     "output_type": "stream",
     "text": [
      "Populating the interactive namespace from numpy and matplotlib\n"
     ]
    }
   ],
   "source": [
    "%pylab inline"
   ]
  },
  {
   "cell_type": "code",
   "execution_count": 8,
   "metadata": {
    "collapsed": false
   },
   "outputs": [],
   "source": [
    "df = pd.read_csv('../../output/features/Feature Matrix.csv',index_col=0)\n",
    "dict = pd.read_csv('../../output/features/Feature Dictionary.csv',index_col=0,sep='\\t')\n",
    "depVarName = df.columns[-1]\n",
    "\n",
    "\n"
   ]
  },
  {
   "cell_type": "code",
   "execution_count": 17,
   "metadata": {
    "collapsed": true
   },
   "outputs": [],
   "source": [
    "df2=df.copy()"
   ]
  },
  {
   "cell_type": "code",
   "execution_count": 18,
   "metadata": {
    "collapsed": true
   },
   "outputs": [],
   "source": [
    "df2['binned26'] = pd.cut(df.att_26,bins=10)"
   ]
  },
  {
   "cell_type": "code",
   "execution_count": 19,
   "metadata": {
    "collapsed": false
   },
   "outputs": [
    {
     "data": {
      "image/png": "[encoded data removed]",
      "text/plain": [
       "<matplotlib.figure.Figure at 0x32b96320>"
      ]
     },
     "metadata": {},
     "output_type": "display_data"
    }
   ],
   "source": [
    "ch=sns.factorplot(x='binned26',y='rating', data=df2,kind='bar',aspect=3)"
   ]
  },
  {
   "cell_type": "code",
   "execution_count": null,
   "metadata": {
    "collapsed": true
   },
   "outputs": [],
   "source": []
  },
  {
   "cell_type": "code",
   "execution_count": 10,
   "metadata": {
    "collapsed": false
   },
   "outputs": [
    {
     "data": {
      "text/plain": [
       "-0.16482017762424445"
      ]
     },
     "execution_count": 10,
     "metadata": {},
     "output_type": "execute_result"
    }
   ],
   "source": [
    "df.att_26.corr(df.rating)"
   ]
  },
  {
   "cell_type": "code",
   "execution_count": 5,
   "metadata": {
    "collapsed": false,
    "scrolled": true
   },
   "outputs": [
    {
     "data": {
      "text/plain": [
       "att_0      1795\n",
       "att_1      1784\n",
       "att_2      1795\n",
       "att_3      1795\n",
       "att_4      1794\n",
       "att_5      1795\n",
       "att_6      1795\n",
       "att_7      1795\n",
       "att_8      1795\n",
       "att_9      1795\n",
       "att_10     1784\n",
       "att_11     1795\n",
       "att_12     1795\n",
       "att_13     1795\n",
       "att_14     1795\n",
       "att_15     1795\n",
       "att_16     1795\n",
       "att_17     1761\n",
       "att_18     1795\n",
       "att_19     1794\n",
       "att_20     1761\n",
       "att_21     1795\n",
       "att_22     1795\n",
       "att_23     1795\n",
       "att_24     1795\n",
       "att_25     1795\n",
       "att_26     1795\n",
       "att_27     1795\n",
       "att_28     1795\n",
       "att_29     1795\n",
       "           ... \n",
       "att_515    1793\n",
       "att_516    1780\n",
       "att_517    1794\n",
       "att_518    1794\n",
       "att_519    1792\n",
       "att_520    1795\n",
       "att_521    1792\n",
       "att_522    1795\n",
       "att_523    1792\n",
       "att_524    1794\n",
       "att_525    1795\n",
       "att_526    1795\n",
       "att_527    1779\n",
       "att_528    1795\n",
       "att_529    1775\n",
       "att_530    1795\n",
       "att_531    1795\n",
       "att_532    1794\n",
       "att_533    1789\n",
       "att_534    1795\n",
       "att_535    1787\n",
       "att_536    1761\n",
       "att_537    1795\n",
       "att_538    1786\n",
       "att_539    1788\n",
       "att_540    1795\n",
       "att_541    1794\n",
       "att_542    1786\n",
       "att_543    1795\n",
       "rating        0\n",
       "Length: 545, dtype: int64"
      ]
     },
     "execution_count": 5,
     "metadata": {},
     "output_type": "execute_result"
    }
   ],
   "source": [
    "df.isnull().sum()"
   ]
  },
  {
   "cell_type": "code",
   "execution_count": 44,
   "metadata": {
    "collapsed": false,
    "scrolled": true
   },
   "outputs": [
    {
     "ename": "NameError",
     "evalue": "name '__file__' is not defined",
     "output_type": "error",
     "traceback": [
      "\u001b[1;31m---------------------------------------------------------------------------\u001b[0m",
      "\u001b[1;31mNameError\u001b[0m                                 Traceback (most recent call last)",
      "\u001b[1;32m<ipython-input-44-900a109cf0c7>\u001b[0m in \u001b[0;36m<module>\u001b[1;34m()\u001b[0m\n\u001b[0;32m     12\u001b[0m \u001b[1;32mif\u001b[0m \u001b[0m__name__\u001b[0m \u001b[1;33m==\u001b[0m \u001b[1;34m\"__main__\"\u001b[0m\u001b[1;33m:\u001b[0m\u001b[1;33m\u001b[0m\u001b[0m\n\u001b[0;32m     13\u001b[0m \u001b[1;33m\u001b[0m\u001b[0m\n\u001b[1;32m---> 14\u001b[1;33m     \u001b[0mdf\u001b[0m \u001b[1;33m=\u001b[0m \u001b[0mpd\u001b[0m\u001b[1;33m.\u001b[0m\u001b[0mread_csv\u001b[0m\u001b[1;33m(\u001b[0m\u001b[0mos\u001b[0m\u001b[1;33m.\u001b[0m\u001b[0mpath\u001b[0m\u001b[1;33m.\u001b[0m\u001b[0mjoin\u001b[0m\u001b[1;33m(\u001b[0m\u001b[0mos\u001b[0m\u001b[1;33m.\u001b[0m\u001b[0mpath\u001b[0m\u001b[1;33m.\u001b[0m\u001b[0mdirname\u001b[0m\u001b[1;33m(\u001b[0m\u001b[0m__file__\u001b[0m\u001b[1;33m)\u001b[0m\u001b[1;33m,\u001b[0m \u001b[1;34m'../../output/features/Feature Matrix.csv'\u001b[0m\u001b[1;33m)\u001b[0m\u001b[1;33m,\u001b[0m\u001b[0mindex_col\u001b[0m\u001b[1;33m=\u001b[0m\u001b[1;36m0\u001b[0m\u001b[1;33m)\u001b[0m\u001b[1;33m\u001b[0m\u001b[0m\n\u001b[0m\u001b[0;32m     15\u001b[0m     \u001b[0mdict\u001b[0m \u001b[1;33m=\u001b[0m \u001b[0mpd\u001b[0m\u001b[1;33m.\u001b[0m\u001b[0mread_csv\u001b[0m\u001b[1;33m(\u001b[0m\u001b[0mos\u001b[0m\u001b[1;33m.\u001b[0m\u001b[0mpath\u001b[0m\u001b[1;33m.\u001b[0m\u001b[0mjoin\u001b[0m\u001b[1;33m(\u001b[0m\u001b[0mos\u001b[0m\u001b[1;33m.\u001b[0m\u001b[0mpath\u001b[0m\u001b[1;33m.\u001b[0m\u001b[0mdirname\u001b[0m\u001b[1;33m(\u001b[0m\u001b[0m__file__\u001b[0m\u001b[1;33m)\u001b[0m\u001b[1;33m,\u001b[0m \u001b[1;34m'../../output/features/Feature Dictionary.csv'\u001b[0m\u001b[1;33m)\u001b[0m\u001b[1;33m,\u001b[0m\u001b[0mindex_col\u001b[0m\u001b[1;33m=\u001b[0m\u001b[1;36m0\u001b[0m\u001b[1;33m,\u001b[0m\u001b[0msep\u001b[0m\u001b[1;33m=\u001b[0m\u001b[1;34m'\\t'\u001b[0m    \u001b[1;33m)\u001b[0m\u001b[1;33m\u001b[0m\u001b[0m\n\u001b[0;32m     16\u001b[0m     \u001b[0mdepVarName\u001b[0m \u001b[1;33m=\u001b[0m \u001b[0mdf\u001b[0m\u001b[1;33m.\u001b[0m\u001b[0mcolumns\u001b[0m\u001b[1;33m[\u001b[0m\u001b[1;33m-\u001b[0m\u001b[1;36m1\u001b[0m\u001b[1;33m]\u001b[0m\u001b[1;33m\u001b[0m\u001b[0m\n",
      "\u001b[1;31mNameError\u001b[0m: name '__file__' is not defined"
     ]
    }
   ],
   "source": [
    "\n",
    "# author: Michele Samorani\n",
    "import pandas as pd\n",
    "import seaborn as sns\n",
    "from sklearn import linear_model as lm\n",
    "from sklearn.model_selection import KFold\n",
    "from sklearn.model_selection import cross_val_score\n",
    "from sklearn.ensemble import AdaBoostClassifier\n",
    "import os\n",
    "\n",
    "\n",
    "\n",
    "df = pd.read_csv('../../output/features/Feature Matrix.csv',index_col=0)\n",
    "dict = pd.read_csv('../../output/features/Feature Dictionary.csv',index_col=0,sep='\\t')\n",
    "depVarName = df.columns[-1]\n",
    "df2 = df2.fillna(df.mean())\n",
    "df2 = 100 * (df2 - df2.min()) / (df2.max() - df2.min())\n",
    "df2[depVarName] = df[depVarName]\n",
    "\n",
    "X = df2.drop([depVarName],axis=1)\n",
    "Y = df2[depVarName]\n",
    "\n",
    "\n",
    "lr = lm.Lasso()\n",
    "lr.fit(X,Y)\n",
    "lr.coef_[0]\n",
    "d={X.columns[i] : lr.coef_[i] for i in range(0,len(X.columns)) }\n",
    "s=pd.Series(d)\n",
    "attr = s.abs().sort_values().head(4).index.tolist()\n",
    "dfViz = df.copy()\n",
    "\n",
    "i = 1\n",
    "for attName in attr:\n",
    "    if df[attName].nunique() > 15:\n",
    "        dfViz[attName] = pd.cut(x=df[attName],bins=5)\n",
    "    chart = sns.factorplot(x=attName,y=depVarName,data=dfViz,kind = 'bar', aspect=3)\n",
    "    chart.set(xlabel=attName, ylabel='Probability of ' + depVarName)\n",
    "    chart.savefig(\"../../output/Report/report-source/IMG\"+ str(i)  + \".png\",dpi=500)\n",
    "    f = open('../../output/Report/report-source/DESCR'+str(i)+'.txt','w')\n",
    "    f.write(dict.loc[attName,'Attribute_Descr'])\n",
    "    f.close()\n",
    "    i+=1\n",
    "\n",
    "if df2[depVarName].nunique() > 2:\n",
    "    regression = True\n",
    "else:\n",
    "    regression = False\n",
    "\n",
    "if not regression:\n",
    "    nfolds = 10\n",
    "    kf = KFold(n_splits=nfolds,random_state=2,shuffle=True)\n",
    "    cl = AdaBoostClassifier()\n",
    "    auc = cross_val_score(cl,X,y=Y,cv=kf,scoring='roc_auc').mean()\n",
    "    f = open('../../output/Report/report-source/text_at_bottom.txt','w')\n",
    "    f.write('Area under the curve obtained by AdaBoost in a 10-fold cross validation: ' +str(round(auc,4)))\n",
    "    f.close()"
   ]
  },
  {
   "cell_type": "code",
   "execution_count": 36,
   "metadata": {
    "collapsed": false
   },
   "outputs": [
    {
     "name": "stdout",
     "output_type": "stream",
     "text": [
      "0.375775452226\n"
     ]
    }
   ],
   "source": [
    "if regression:\n",
    "    from sklearn.model_selection import train_test_split\n",
    "    import sklearn.metrics\n",
    "    X_train, X_test, y_train, y_test = train_test_split(X,Y,test_size=0.3,random_state=2)\n",
    "    from sklearn import linear_model\n",
    "    regLasso = linear_model.LinearRegression()\n",
    "    regLasso.fit(X_train,y_train)\n",
    "    y_pred = regLasso.predict(X_test)\n",
    "    print((y_pred - y_test).abs().mean())"
   ]
  },
  {
   "cell_type": "code",
   "execution_count": 37,
   "metadata": {
    "collapsed": false
   },
   "outputs": [
    {
     "data": {
      "text/plain": [
       "array([ 3.27734375,  3.1875    ,  3.34375   ,  3.09765625,  3.09765625,\n",
       "        3.1875    ,  3.1875    ,  2.6484375 ,  3.2578125 ,  3.29296875])"
      ]
     },
     "execution_count": 37,
     "metadata": {},
     "output_type": "execute_result"
    }
   ],
   "source": [
    "y_pred[:10]"
   ]
  },
  {
   "cell_type": "code",
   "execution_count": 42,
   "metadata": {
    "collapsed": false
   },
   "outputs": [
    {
     "data": {
      "text/plain": [
       "rating\n",
       "1.00      4\n",
       "1.50     10\n",
       "1.75      3\n",
       "2.00     32\n",
       "2.25     14\n",
       "2.50    127\n",
       "2.75    259\n",
       "3.00    341\n",
       "3.25    303\n",
       "3.50    392\n",
       "3.75    210\n",
       "4.00     98\n",
       "5.00      2\n",
       "dtype: int64"
      ]
     },
     "execution_count": 42,
     "metadata": {},
     "output_type": "execute_result"
    }
   ],
   "source": [
    "df.groupby('rating').size()"
   ]
  },
  {
   "cell_type": "code",
   "execution_count": 39,
   "metadata": {
    "collapsed": false
   },
   "outputs": [
    {
     "data": {
      "text/plain": [
       "ID\n",
       "632     3.75\n",
       "177     3.50\n",
       "1712    2.75\n",
       "1384    3.25\n",
       "1418    2.75\n",
       "1325    2.75\n",
       "789     2.50\n",
       "922     2.50\n",
       "1305    2.75\n",
       "746     3.75\n",
       "34      3.25\n",
       "683     2.50\n",
       "675     2.75\n",
       "66      3.00\n",
       "1742    3.75\n",
       "406     3.50\n",
       "324     5.00\n",
       "1171    2.00\n",
       "1371    3.25\n",
       "796     3.25\n",
       "1732    3.00\n",
       "124     2.75\n",
       "980     3.50\n",
       "734     3.75\n",
       "1102    3.25\n",
       "1234    3.75\n",
       "1176    3.50\n",
       "304     2.75\n",
       "1542    3.00\n",
       "133     3.75\n",
       "        ... \n",
       "1704    3.50\n",
       "45      3.50\n",
       "165     3.25\n",
       "1598    2.50\n",
       "1339    3.25\n",
       "1066    2.75\n",
       "259     3.00\n",
       "142     3.00\n",
       "411     3.25\n",
       "585     3.50\n",
       "834     3.50\n",
       "237     3.00\n",
       "643     3.50\n",
       "297     3.25\n",
       "612     2.75\n",
       "624     4.00\n",
       "1031    3.00\n",
       "533     3.75\n",
       "1254    3.75\n",
       "684     3.50\n",
       "1602    4.00\n",
       "1709    3.00\n",
       "172     3.75\n",
       "602     2.75\n",
       "202     3.00\n",
       "498     2.75\n",
       "1064    3.00\n",
       "55      3.75\n",
       "17      3.25\n",
       "687     3.25\n",
       "Name: rating, Length: 100, dtype: float64"
      ]
     },
     "execution_count": 39,
     "metadata": {},
     "output_type": "execute_result"
    }
   ],
   "source": [
    "y_test[:100]"
   ]
  },
  {
   "cell_type": "code",
   "execution_count": 41,
   "metadata": {
    "collapsed": false
   },
   "outputs": [],
   "source": [
    "\n",
    "# author: Michele Samorani\n",
    "import pandas as pd\n",
    "import seaborn as sns\n",
    "from sklearn import linear_model as lm\n",
    "from sklearn.model_selection import KFold\n",
    "from sklearn.model_selection import cross_val_score\n",
    "from sklearn.ensemble import AdaBoostClassifier\n",
    "import os\n",
    "\n",
    "\n",
    "if __name__ == \"__main__\":\n",
    "\n",
    "    df = pd.read_csv('../../output/features/Feature Matrix.csv',index_col=0)\n",
    "    dict = pd.read_csv('../../output/features/Feature Dictionary.csv',index_col=0,sep='\\t')\n",
    "    depVarName = df.columns[-1]\n",
    "    depVarName = df.columns[-1]\n",
    "    df2 = df.fillna(df.mean())\n",
    "    df2 = 100 * (df2 - df2.min()) / (df2.max() - df2.min())\n",
    "    X = df2.drop([depVarName],axis=1)\n",
    "    Y = df2[depVarName] / 100\n",
    "    \n",
    "    lr = lm.Lasso()\n",
    "    lr.fit(X,Y)\n",
    "    lr.coef_[0]\n",
    "    d={X.columns[i] : lr.coef_[i] for i in range(0,len(X.columns)) }\n",
    "    s=pd.Series(d)\n",
    "    attr = s.abs().sort_values().head(4).index.tolist()\n",
    "    dfViz = df.copy()\n",
    "    \n",
    "    i = 1\n",
    "    for attName in attr:\n",
    "        if df[attName].nunique() > 15:\n",
    "            dfViz[attName] = pd.cut(x=df[attName],bins=5)\n",
    "        chart = sns.factorplot(x=attName,y=depVarName,data=dfViz,kind = 'bar', aspect=3)\n",
    "        chart.set(xlabel=attName, ylabel='Probability of ' + depVarName)\n",
    "        chart.savefig(\"../../output/Report/report-source/IMG\"+ str(i)  + \".png\",dpi=500)\n",
    "        f = open('../../output/Report/report-source/DESCR'+str(i)+'.txt','w')\n",
    "        f.write(dict.loc[attName,'SQL_Query'])\n",
    "        f.close()\n",
    "\n",
    "        i+=1\n",
    "    \n",
    "    if df2[depVarName].nunique() > 2:\n",
    "        regression = True\n",
    "    else:\n",
    "        regression = False\n",
    "\n",
    "    if not regression:\n",
    "        nfolds = 10\n",
    "        kf = KFold(n_splits=nfolds,random_state=2,shuffle=True)\n",
    "        cl = AdaBoostClassifier()\n",
    "        auc = cross_val_score(cl,X,y=Y,cv=kf,scoring='roc_auc').mean()\n",
    "        f = open('../../output/Report/report-source/text_at_bottom.txt','w')\n",
    "        f.write('Area under the curve obtained by AdaBoost in a 10-fold cross validation: ' +str(round(auc,4)))\n",
    "        f.close()"
   ]
  }
 ],
 "metadata": {
  "kernelspec": {
   "display_name": "Python 2",
   "language": "python",
   "name": "python2"
  },
  "language_info": {
   "codemirror_mode": {
    "name": "ipython",
    "version": 2
   },
   "file_extension": ".py",
   "mimetype": "text/x-python",
   "name": "python",
   "nbconvert_exporter": "python",
   "pygments_lexer": "ipython2",
   "version": "2.7.11"
  }
 },
 "nbformat": 4,
 "nbformat_minor": 0
}
