{
 "cells": [
  {
   "cell_type": "code",
   "execution_count": 8,
   "metadata": {
    "collapsed": true
   },
   "outputs": [],
   "source": [
    "depVarName = df.columns[-1]"
   ]
  },
  {
   "cell_type": "code",
   "execution_count": 18,
   "metadata": {
    "collapsed": false
   },
   "outputs": [
    {
     "data": {
      "text/plain": [
       "'att_12'"
      ]
     },
     "execution_count": 18,
     "metadata": {},
     "output_type": "execute_result"
    }
   ],
   "source": [
    "attName"
   ]
  },
  {
   "cell_type": "code",
   "execution_count": 32,
   "metadata": {
    "collapsed": false,
    "scrolled": true
   },
   "outputs": [
    {
     "data": {
      "text/plain": [
       "Index([u'att_0', u'att_1', u'att_2', u'att_3', u'att_4', u'att_5', u'att_6',\n",
       "       u'att_7', u'att_8', u'att_9', u'att_10', u'att_11', u'att_12',\n",
       "       u'att_13', u'att_14'],\n",
       "      dtype='object', name=u'Attribute_ID')"
      ]
     },
     "execution_count": 32,
     "metadata": {},
     "output_type": "execute_result"
    }
   ],
   "source": [
    "dict.index"
   ]
  },
  {
   "cell_type": "code",
   "execution_count": 34,
   "metadata": {
    "collapsed": false,
    "scrolled": false
   },
   "outputs": [
    {
     "data": {
      "text/plain": [
       "'The MAX returned among the previous Purchases of the Products where WHERE t2.online = 0'"
      ]
     },
     "execution_count": 34,
     "metadata": {},
     "output_type": "execute_result"
    }
   ],
   "source": [
    "dict.loc[attName,'Attribute_Descr']"
   ]
  },
  {
   "cell_type": "code",
   "execution_count": 37,
   "metadata": {
    "collapsed": false
   },
   "outputs": [],
   "source": [
    "\n",
    "# author: Michele Samorani\n",
    "import pandas as pd\n",
    "import seaborn as sns\n",
    "from sklearn import linear_model as lm\n",
    "from sklearn.model_selection import KFold\n",
    "from sklearn.model_selection import cross_val_score\n",
    "from sklearn.ensemble import AdaBoostClassifier\n",
    "import os\n",
    "\n",
    "\n",
    "\n",
    "df = pd.read_csv('../../output/features/Feature Matrix.csv',index_col=0)\n",
    "dict = pd.read_csv('../../output/features/Feature Dictionary.csv',index_col=0,sep='\\t')\n",
    "depVarName = df.columns[-1]\n",
    "df2 = df.fillna(df.mean())\n",
    "df2 = 100 * (df2 - df2.min()) / (df2.max() - df2.min())\n",
    "X = df2.drop([depVarName],axis=1)\n",
    "Y = df2[depVarName] / 100\n",
    "\n",
    "lr = lm.Lasso()\n",
    "lr.fit(X,Y)\n",
    "lr.coef_[0]\n",
    "d={X.columns[i] : lr.coef_[i] for i in range(0,len(X.columns)) }\n",
    "s=pd.Series(d)\n",
    "attr = s.abs().sort_values().head(4).index.tolist()\n",
    "dfViz = df.copy()\n",
    "\n",
    "i = 1\n",
    "for attName in attr:\n",
    "    if df[attName].nunique() > 15:\n",
    "        dfViz[attName] = pd.cut(x=df[attName],bins=5)\n",
    "    chart = sns.factorplot(x=attName,y=depVarName,data=dfViz,kind = 'bar', aspect=3)\n",
    "    chart.set(xlabel=dict.loc[attName,'Attribute_Descr'], ylabel='Probability of ' + depVarName)\n",
    "    chart.savefig(\"../../output/Report/report-source/IMG\"+ str(i)  + \".png\",dpi=500)\n",
    "    f = open('../../output/Report/report-source/DESCR'+str(i)+'.txt','w')\n",
    "    f.write(dict.loc[attName,'Attribute_Descr'])\n",
    "    f.close()\n",
    "    i+=1\n",
    "\n",
    "if df2[depVarName].nunique() > 2:\n",
    "    regression = True\n",
    "else:\n",
    "    regression = False\n",
    "\n",
    "if not regression:\n",
    "    nfolds = 10\n",
    "    kf = KFold(n_splits=nfolds,random_state=2,shuffle=True)\n",
    "    cl = AdaBoostClassifier()\n",
    "    auc = cross_val_score(cl,X,y=Y,cv=kf,scoring='roc_auc').mean()\n",
    "    f = open('../../output/Report/report-source/text_at_bottom.txt','w')\n",
    "    f.write('Area under the curve obtained by AdaBoost in a 10-fold cross validation: ' +str(round(auc,4)))\n",
    "    f.close()"
   ]
  },
  {
   "cell_type": "code",
   "execution_count": 38,
   "metadata": {
    "collapsed": false
   },
   "outputs": [
    {
     "ename": "SyntaxError",
     "evalue": "invalid syntax (<ipython-input-38-10354b50bba6>, line 15)",
     "output_type": "error",
     "traceback": [
      "\u001b[1;36m  File \u001b[1;32m\"<ipython-input-38-10354b50bba6>\"\u001b[1;36m, line \u001b[1;32m15\u001b[0m\n\u001b[1;33m    dict = pd.read_csv(os.path.join(os.path.dirname(__file__), '../../output/features/Feature Dictionary.csv'),index_col=0,sep='\\t'))\u001b[0m\n\u001b[1;37m                                                                                                                                    ^\u001b[0m\n\u001b[1;31mSyntaxError\u001b[0m\u001b[1;31m:\u001b[0m invalid syntax\n"
     ]
    }
   ],
   "source": [
    "\n",
    "# author: Michele Samorani\n",
    "import pandas as pd\n",
    "import seaborn as sns\n",
    "from sklearn import linear_model as lm\n",
    "from sklearn.model_selection import KFold\n",
    "from sklearn.model_selection import cross_val_score\n",
    "from sklearn.ensemble import AdaBoostClassifier\n",
    "import os\n",
    "\n",
    "\n",
    "if __name__ == \"__main__\":\n",
    "\n",
    "    df = pd.read_csv(os.path.join(os.path.dirname(__file__), '../../output/features/Feature Matrix.csv'),index_col=0)\n",
    "    dict = pd.read_csv(os.path.join(os.path.dirname(__file__), '../../output/features/Feature Dictionary.csv'),index_col=0,sep='\\t')\n",
    "    depVarName = df.columns[-1]\n",
    "    depVarName = df.columns[-1]\n",
    "    df2 = df.fillna(df.mean())\n",
    "    df2 = 100 * (df2 - df2.min()) / (df2.max() - df2.min())\n",
    "    X = df2.drop([depVarName],axis=1)\n",
    "    Y = df2[depVarName] / 100\n",
    "    \n",
    "    lr = lm.Lasso()\n",
    "    lr.fit(X,Y)\n",
    "    lr.coef_[0]\n",
    "    d={X.columns[i] : lr.coef_[i] for i in range(0,len(X.columns)) }\n",
    "    s=pd.Series(d)\n",
    "    attr = s.abs().sort_values().head(4).index.tolist()\n",
    "    dfViz = df.copy()\n",
    "    \n",
    "    i = 1\n",
    "    for attName in attr:\n",
    "        if df[attName].nunique() > 15:\n",
    "            dfViz[attName] = pd.cut(x=df[attName],bins=5)\n",
    "        chart = sns.factorplot(x=attName,y=depVarName,data=dfViz,kind = 'bar', aspect=3)\n",
    "        chart.savefig(os.path.join(os.path.dirname(__file__), \"../../output/Report/report-source/IMG\"+ str(i)  + \".png\"),dpi=500)\n",
    "        f = open(os.path.join(os.path.dirname(__file__),'../../output/Report/report-source/DESCR'+str(i)+'.txt'),'w')\n",
    "        f.write(dict.loc[attName,'SQL_Query'])\n",
    "        f.close()\n",
    "\n",
    "        i+=1\n",
    "    \n",
    "    if df2[depVarName].nunique() > 2:\n",
    "        regression = True\n",
    "    else:\n",
    "        regression = False\n",
    "\n",
    "    if not regression:\n",
    "        nfolds = 10\n",
    "        kf = KFold(n_splits=nfolds,random_state=2,shuffle=True)\n",
    "        cl = AdaBoostClassifier()\n",
    "        auc = cross_val_score(cl,X,y=Y,cv=kf,scoring='roc_auc').mean()\n",
    "        f = open(os.path.join(os.path.dirname(__file__), '../../output/Report/report-source/text_at_bottom.txt'),'w')\n",
    "        f.write('Area under the curve obtained by AdaBoost in a 10-fold cross validation: ' +str(round(auc,4)))\n",
    "        f.close()"
   ]
  }
 ],
 "metadata": {
  "kernelspec": {
   "display_name": "Python 2",
   "language": "python",
   "name": "python2"
  },
  "language_info": {
   "codemirror_mode": {
    "name": "ipython",
    "version": 2
   },
   "file_extension": ".py",
   "mimetype": "text/x-python",
   "name": "python",
   "nbconvert_exporter": "python",
   "pygments_lexer": "ipython2",
   "version": "2.7.11"
  }
 },
 "nbformat": 4,
 "nbformat_minor": 0
}
