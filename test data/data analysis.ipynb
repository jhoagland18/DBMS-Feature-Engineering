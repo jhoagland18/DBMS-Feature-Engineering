{
 "cells": [
  {
   "cell_type": "markdown",
   "metadata": {},
   "source": [
    "# DataFrame"
   ]
  },
  {
   "cell_type": "code",
   "execution_count": 1,
   "metadata": {
    "collapsed": true
   },
   "outputs": [],
   "source": [
    "# print all the outputs in a cell\n",
    "from IPython.core.interactiveshell import InteractiveShell\n",
    "InteractiveShell.ast_node_interactivity = \"all\"\n",
    "\n",
    "import pandas as pd"
   ]
  },
  {
   "cell_type": "code",
   "execution_count": 6,
   "metadata": {
    "collapsed": true
   },
   "outputs": [],
   "source": [
    "df = pd.read_csv(\"RA_cleaned.csv\", delimiter=',', quotechar='\"', header=0, index_col=\"ra_review_id\", parse_dates=['review_published'])"
   ]
  },
  {
   "cell_type": "code",
   "execution_count": 7,
   "metadata": {
    "collapsed": false
   },
   "outputs": [
    {
     "data": {
      "text/plain": [
       "Index([u'release_type', u'artist', u'release_title', u'label',\n",
       "       u'release_month', u'release_year', u'style', u'num_comments', u'rating',\n",
       "       u'review_published', u'author', u'review_body', u'tracklist'],\n",
       "      dtype='object')"
      ]
     },
     "execution_count": 7,
     "metadata": {},
     "output_type": "execute_result"
    }
   ],
   "source": [
    "df.columns"
   ]
  },
  {
   "cell_type": "markdown",
   "metadata": {},
   "source": [
    "Aritsts that appear only once"
   ]
  },
  {
   "cell_type": "code",
   "execution_count": 13,
   "metadata": {
    "collapsed": false
   },
   "outputs": [
    {
     "data": {
      "text/plain": [
       "0.64736211031175062"
      ]
     },
     "execution_count": 13,
     "metadata": {},
     "output_type": "execute_result"
    }
   ],
   "source": [
    "(df.groupby('artist').size() == 1).mean()"
   ]
  },
  {
   "cell_type": "markdown",
   "metadata": {},
   "source": [
    "release_title that appear only once"
   ]
  },
  {
   "cell_type": "code",
   "execution_count": 14,
   "metadata": {
    "collapsed": false
   },
   "outputs": [
    {
     "data": {
      "text/plain": [
       "0.87018448182311448"
      ]
     },
     "execution_count": 14,
     "metadata": {},
     "output_type": "execute_result"
    }
   ],
   "source": [
    "(df.groupby('release_title').size() == 1).mean()"
   ]
  },
  {
   "cell_type": "markdown",
   "metadata": {},
   "source": [
    "label that appear only once"
   ]
  },
  {
   "cell_type": "code",
   "execution_count": 15,
   "metadata": {
    "collapsed": false
   },
   "outputs": [
    {
     "data": {
      "text/plain": [
       "0.43299549549549549"
      ]
     },
     "execution_count": 15,
     "metadata": {},
     "output_type": "execute_result"
    }
   ],
   "source": [
    "(df.groupby('label').size() == 1).mean()"
   ]
  },
  {
   "cell_type": "markdown",
   "metadata": {},
   "source": [
    "styles that appear only once"
   ]
  },
  {
   "cell_type": "code",
   "execution_count": 20,
   "metadata": {
    "collapsed": false
   },
   "outputs": [
    {
     "data": {
      "text/plain": [
       "0.68847894187260705"
      ]
     },
     "execution_count": 20,
     "metadata": {},
     "output_type": "execute_result"
    }
   ],
   "source": [
    "(df.groupby('style').size() == 1).mean()"
   ]
  },
  {
   "cell_type": "markdown",
   "metadata": {},
   "source": [
    "How many styles"
   ]
  },
  {
   "cell_type": "code",
   "execution_count": 19,
   "metadata": {
    "collapsed": false
   },
   "outputs": [
    {
     "data": {
      "text/plain": [
       "2873"
      ]
     },
     "execution_count": 19,
     "metadata": {},
     "output_type": "execute_result"
    }
   ],
   "source": [
    "df['style'].nunique()"
   ]
  },
  {
   "cell_type": "code",
   "execution_count": 17,
   "metadata": {
    "collapsed": false
   },
   "outputs": [
    {
     "data": {
      "text/html": [
       "<div>\n",
       "<style>\n",
       "    .dataframe thead tr:only-child th {\n",
       "        text-align: right;\n",
       "    }\n",
       "\n",
       "    .dataframe thead th {\n",
       "        text-align: left;\n",
       "    }\n",
       "\n",
       "    .dataframe tbody tr th {\n",
       "        vertical-align: top;\n",
       "    }\n",
       "</style>\n",
       "<table border=\"1\" class=\"dataframe\">\n",
       "  <thead>\n",
       "    <tr style=\"text-align: right;\">\n",
       "      <th>ra_review_id</th>\n",
       "      <th>21921</th>\n",
       "      <th>21920</th>\n",
       "      <th>21919</th>\n",
       "      <th>21918</th>\n",
       "      <th>21915</th>\n",
       "    </tr>\n",
       "  </thead>\n",
       "  <tbody>\n",
       "    <tr>\n",
       "      <th>release_type</th>\n",
       "      <td>single</td>\n",
       "      <td>single</td>\n",
       "      <td>single</td>\n",
       "      <td>single</td>\n",
       "      <td>single</td>\n",
       "    </tr>\n",
       "    <tr>\n",
       "      <th>artist</th>\n",
       "      <td>Nereid</td>\n",
       "      <td>Anthony Linell</td>\n",
       "      <td>AGF</td>\n",
       "      <td>C.P. Smith</td>\n",
       "      <td>Alessandro Adriani</td>\n",
       "    </tr>\n",
       "    <tr>\n",
       "      <th>release_title</th>\n",
       "      <td>Volume One</td>\n",
       "      <td>Layers Of Reality</td>\n",
       "      <td>Solid</td>\n",
       "      <td>DJ Tools. Vol 1: 808 Tracks</td>\n",
       "      <td>Enter The Fire</td>\n",
       "    </tr>\n",
       "    <tr>\n",
       "      <th>label</th>\n",
       "      <td>Warped Core</td>\n",
       "      <td>Northern Electronics</td>\n",
       "      <td>NaN</td>\n",
       "      <td>Central Processing Unit</td>\n",
       "      <td>Stroboscopic Artefacts</td>\n",
       "    </tr>\n",
       "    <tr>\n",
       "      <th>release_month</th>\n",
       "      <td>December</td>\n",
       "      <td>December</td>\n",
       "      <td>December</td>\n",
       "      <td>December</td>\n",
       "      <td>December</td>\n",
       "    </tr>\n",
       "    <tr>\n",
       "      <th>release_year</th>\n",
       "      <td>2017</td>\n",
       "      <td>2017</td>\n",
       "      <td>2017</td>\n",
       "      <td>2017</td>\n",
       "      <td>2017</td>\n",
       "    </tr>\n",
       "    <tr>\n",
       "      <th>style</th>\n",
       "      <td>Techno</td>\n",
       "      <td>Techno</td>\n",
       "      <td>Experimental, Club</td>\n",
       "      <td>Electro</td>\n",
       "      <td>Techno, EBM</td>\n",
       "    </tr>\n",
       "    <tr>\n",
       "      <th>num_comments</th>\n",
       "      <td>0</td>\n",
       "      <td>1</td>\n",
       "      <td>2</td>\n",
       "      <td>0</td>\n",
       "      <td>3</td>\n",
       "    </tr>\n",
       "    <tr>\n",
       "      <th>rating</th>\n",
       "      <td>3.8</td>\n",
       "      <td>3.8</td>\n",
       "      <td>3.8</td>\n",
       "      <td>3.8</td>\n",
       "      <td>3.8</td>\n",
       "    </tr>\n",
       "    <tr>\n",
       "      <th>review_published</th>\n",
       "      <td>2017-12-29 00:00:00</td>\n",
       "      <td>2017-12-22 00:00:00</td>\n",
       "      <td>2017-12-21 00:00:00</td>\n",
       "      <td>2018-01-04 00:00:00</td>\n",
       "      <td>2017-12-20 00:00:00</td>\n",
       "    </tr>\n",
       "    <tr>\n",
       "      <th>author</th>\n",
       "      <td>Andrew Ryce</td>\n",
       "      <td>Andrew Ryce</td>\n",
       "      <td>Lisa Blanning</td>\n",
       "      <td>Andrew Ryce</td>\n",
       "      <td>Holly Dicker</td>\n",
       "    </tr>\n",
       "    <tr>\n",
       "      <th>review_body</th>\n",
       "      <td>Nereid is a new project on a new label from a ...</td>\n",
       "      <td>&lt;i&gt;Layers Of Reality&lt;/i&gt; is the third release ...</td>\n",
       "      <td>Now in the self-sufficient digital release pha...</td>\n",
       "      <td>Lately, Central Processing Unit has been movin...</td>\n",
       "      <td>Techno's coupling with EBM this year reached a...</td>\n",
       "    </tr>\n",
       "    <tr>\n",
       "      <th>tracklist</th>\n",
       "      <td>A1 Umea,B1 Operator,B2 Neptune</td>\n",
       "      <td>A1 Layers Of Reality,B1 Separated From Other B...</td>\n",
       "      <td>01. Solids,02. Unlimited Migration,03. GReeD,0...</td>\n",
       "      <td>A1 The Soul,A2 Needle To The Groove,B1 Don't S...</td>\n",
       "      <td>A1 He Who Harnesses The Soul,A2 Rituals (707 E...</td>\n",
       "    </tr>\n",
       "  </tbody>\n",
       "</table>\n",
       "</div>"
      ],
      "text/plain": [
       "ra_review_id                                                  21921  \\\n",
       "release_type                                                 single   \n",
       "artist                                                       Nereid   \n",
       "release_title                                            Volume One   \n",
       "label                                                   Warped Core   \n",
       "release_month                                              December   \n",
       "release_year                                                   2017   \n",
       "style                                                        Techno   \n",
       "num_comments                                                      0   \n",
       "rating                                                          3.8   \n",
       "review_published                                2017-12-29 00:00:00   \n",
       "author                                                  Andrew Ryce   \n",
       "review_body       Nereid is a new project on a new label from a ...   \n",
       "tracklist                            A1 Umea,B1 Operator,B2 Neptune   \n",
       "\n",
       "ra_review_id                                                  21920  \\\n",
       "release_type                                                 single   \n",
       "artist                                               Anthony Linell   \n",
       "release_title                                     Layers Of Reality   \n",
       "label                                          Northern Electronics   \n",
       "release_month                                              December   \n",
       "release_year                                                   2017   \n",
       "style                                                        Techno   \n",
       "num_comments                                                      1   \n",
       "rating                                                          3.8   \n",
       "review_published                                2017-12-22 00:00:00   \n",
       "author                                                  Andrew Ryce   \n",
       "review_body       <i>Layers Of Reality</i> is the third release ...   \n",
       "tracklist         A1 Layers Of Reality,B1 Separated From Other B...   \n",
       "\n",
       "ra_review_id                                                  21919  \\\n",
       "release_type                                                 single   \n",
       "artist                                                          AGF   \n",
       "release_title                                                 Solid   \n",
       "label                                                           NaN   \n",
       "release_month                                              December   \n",
       "release_year                                                   2017   \n",
       "style                                            Experimental, Club   \n",
       "num_comments                                                      2   \n",
       "rating                                                          3.8   \n",
       "review_published                                2017-12-21 00:00:00   \n",
       "author                                                Lisa Blanning   \n",
       "review_body       Now in the self-sufficient digital release pha...   \n",
       "tracklist         01. Solids,02. Unlimited Migration,03. GReeD,0...   \n",
       "\n",
       "ra_review_id                                                  21918  \\\n",
       "release_type                                                 single   \n",
       "artist                                                   C.P. Smith   \n",
       "release_title                           DJ Tools. Vol 1: 808 Tracks   \n",
       "label                                       Central Processing Unit   \n",
       "release_month                                              December   \n",
       "release_year                                                   2017   \n",
       "style                                                       Electro   \n",
       "num_comments                                                      0   \n",
       "rating                                                          3.8   \n",
       "review_published                                2018-01-04 00:00:00   \n",
       "author                                                  Andrew Ryce   \n",
       "review_body       Lately, Central Processing Unit has been movin...   \n",
       "tracklist         A1 The Soul,A2 Needle To The Groove,B1 Don't S...   \n",
       "\n",
       "ra_review_id                                                  21915  \n",
       "release_type                                                 single  \n",
       "artist                                           Alessandro Adriani  \n",
       "release_title                                        Enter The Fire  \n",
       "label                                        Stroboscopic Artefacts  \n",
       "release_month                                              December  \n",
       "release_year                                                   2017  \n",
       "style                                                   Techno, EBM  \n",
       "num_comments                                                      3  \n",
       "rating                                                          3.8  \n",
       "review_published                                2017-12-20 00:00:00  \n",
       "author                                                 Holly Dicker  \n",
       "review_body       Techno's coupling with EBM this year reached a...  \n",
       "tracklist         A1 He Who Harnesses The Soul,A2 Rituals (707 E...  "
      ]
     },
     "execution_count": 17,
     "metadata": {},
     "output_type": "execute_result"
    }
   ],
   "source": [
    "df.head().T"
   ]
  },
  {
   "cell_type": "code",
   "execution_count": null,
   "metadata": {
    "collapsed": true
   },
   "outputs": [],
   "source": []
  }
 ],
 "metadata": {
  "kernelspec": {
   "display_name": "Python 2",
   "language": "python",
   "name": "python2"
  },
  "language_info": {
   "codemirror_mode": {
    "name": "ipython",
    "version": 2
   },
   "file_extension": ".py",
   "mimetype": "text/x-python",
   "name": "python",
   "nbconvert_exporter": "python",
   "pygments_lexer": "ipython2",
   "version": "2.7.11"
  }
 },
 "nbformat": 4,
 "nbformat_minor": 0
}
